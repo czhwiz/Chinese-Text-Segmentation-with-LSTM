{
  "cells": [
    {
      "cell_type": "code",
      "execution_count": 1,
      "metadata": {
        "id": "MU7k0WUN7dPF"
      },
      "outputs": [],
      "source": [
        "#what\n",
        "import numpy as np\n",
        "import pandas as pd\n",
        "import matplotlib.pyplot as plt\n",
        "\n",
        "import tensorflow as tf\n",
        "from tensorflow.keras.layers import *\n",
        "from tensorflow.keras.models import Model"
      ]
    },
    {
      "cell_type": "code",
      "execution_count": 4,
      "metadata": {},
      "outputs": [],
      "source": [
        "xtrain = pd.read_csv(r'C:\\Users\\zhiha\\OneDrive\\Documents\\.Zhihao\\.ML\\datasets\\Chinese Segmentation\\as_training.utf8', header=None)\n",
        "#testdf = pd.read_csv(r'C:\\Users\\zhiha\\OneDrive\\Documents\\.Zhihao\\.ML\\datasets\\Chinese Segmentation\\as_test.utf8', header=None)"
      ]
    },
    {
      "cell_type": "code",
      "execution_count": null,
      "metadata": {
        "id": "USrS6My477ym"
      },
      "outputs": [],
      "source": [
        "xtrain = pd.read_csv('/content/drive/MyDrive/ML/Datasets/Chinese_segmentation/as_training.utf8', header=None)\n",
        "#testdf = pd.read_csv('/content/drive/MyDrive/ML/Datasets/Chinese_segmentation/as_test.utf8', header=None)"
      ]
    },
    {
      "cell_type": "code",
      "execution_count": 5,
      "metadata": {
        "colab": {
          "base_uri": "https://localhost:8080/",
          "height": 206
        },
        "id": "M1RHsgw8-heC",
        "outputId": "19659602-5031-4e80-96a7-5577a09a7c7a"
      },
      "outputs": [
        {
          "data": {
            "text/html": [
              "<div>\n",
              "<style scoped>\n",
              "    .dataframe tbody tr th:only-of-type {\n",
              "        vertical-align: middle;\n",
              "    }\n",
              "\n",
              "    .dataframe tbody tr th {\n",
              "        vertical-align: top;\n",
              "    }\n",
              "\n",
              "    .dataframe thead th {\n",
              "        text-align: right;\n",
              "    }\n",
              "</style>\n",
              "<table border=\"1\" class=\"dataframe\">\n",
              "  <thead>\n",
              "    <tr style=\"text-align: right;\">\n",
              "      <th></th>\n",
              "      <th>0</th>\n",
              "    </tr>\n",
              "  </thead>\n",
              "  <tbody>\n",
              "    <tr>\n",
              "      <th>0</th>\n",
              "      <td>時間　：</td>\n",
              "    </tr>\n",
              "    <tr>\n",
              "      <th>1</th>\n",
              "      <td>三月　十日　（　星期四　）　上午　十時　。</td>\n",
              "    </tr>\n",
              "    <tr>\n",
              "      <th>2</th>\n",
              "      <td>地點　：</td>\n",
              "    </tr>\n",
              "    <tr>\n",
              "      <th>3</th>\n",
              "      <td>學術　活動　中心　一樓　簡報室　。</td>\n",
              "    </tr>\n",
              "    <tr>\n",
              "      <th>4</th>\n",
              "      <td>主講　：</td>\n",
              "    </tr>\n",
              "  </tbody>\n",
              "</table>\n",
              "</div>"
            ],
            "text/plain": [
              "                       0\n",
              "0                   時間　：\n",
              "1  三月　十日　（　星期四　）　上午　十時　。\n",
              "2                   地點　：\n",
              "3      學術　活動　中心　一樓　簡報室　。\n",
              "4                   主講　："
            ]
          },
          "execution_count": 5,
          "metadata": {},
          "output_type": "execute_result"
        }
      ],
      "source": [
        "yraw = xtrain.copy()\n",
        "\n",
        "xtrain[0] = xtrain[0].str.replace('\\u3000','')\n",
        "yraw.head()"
      ]
    },
    {
      "cell_type": "code",
      "execution_count": 6,
      "metadata": {},
      "outputs": [
        {
          "data": {
            "text/html": [
              "<div>\n",
              "<style scoped>\n",
              "    .dataframe tbody tr th:only-of-type {\n",
              "        vertical-align: middle;\n",
              "    }\n",
              "\n",
              "    .dataframe tbody tr th {\n",
              "        vertical-align: top;\n",
              "    }\n",
              "\n",
              "    .dataframe thead th {\n",
              "        text-align: right;\n",
              "    }\n",
              "</style>\n",
              "<table border=\"1\" class=\"dataframe\">\n",
              "  <thead>\n",
              "    <tr style=\"text-align: right;\">\n",
              "      <th></th>\n",
              "      <th>0</th>\n",
              "    </tr>\n",
              "  </thead>\n",
              "  <tbody>\n",
              "    <tr>\n",
              "      <th>0</th>\n",
              "      <td>時間：</td>\n",
              "    </tr>\n",
              "    <tr>\n",
              "      <th>1</th>\n",
              "      <td>三月十日（星期四）上午十時。</td>\n",
              "    </tr>\n",
              "    <tr>\n",
              "      <th>2</th>\n",
              "      <td>地點：</td>\n",
              "    </tr>\n",
              "    <tr>\n",
              "      <th>3</th>\n",
              "      <td>學術活動中心一樓簡報室。</td>\n",
              "    </tr>\n",
              "    <tr>\n",
              "      <th>4</th>\n",
              "      <td>主講：</td>\n",
              "    </tr>\n",
              "    <tr>\n",
              "      <th>...</th>\n",
              "      <td>...</td>\n",
              "    </tr>\n",
              "    <tr>\n",
              "      <th>708948</th>\n",
              "      <td>成體以海中藻類為主食，</td>\n",
              "    </tr>\n",
              "    <tr>\n",
              "      <th>708949</th>\n",
              "      <td>幼體卻為肉食性。</td>\n",
              "    </tr>\n",
              "    <tr>\n",
              "      <th>708950</th>\n",
              "      <td>分佈：</td>\n",
              "    </tr>\n",
              "    <tr>\n",
              "      <th>708951</th>\n",
              "      <td>主要分佈在熱帶及亞熱帶水域，</td>\n",
              "    </tr>\n",
              "    <tr>\n",
              "      <th>708952</th>\n",
              "      <td>溫帶水域亦有其活動記錄。</td>\n",
              "    </tr>\n",
              "  </tbody>\n",
              "</table>\n",
              "<p>708953 rows × 1 columns</p>\n",
              "</div>"
            ],
            "text/plain": [
              "                     0\n",
              "0                  時間：\n",
              "1       三月十日（星期四）上午十時。\n",
              "2                  地點：\n",
              "3         學術活動中心一樓簡報室。\n",
              "4                  主講：\n",
              "...                ...\n",
              "708948     成體以海中藻類為主食，\n",
              "708949        幼體卻為肉食性。\n",
              "708950             分佈：\n",
              "708951  主要分佈在熱帶及亞熱帶水域，\n",
              "708952    溫帶水域亦有其活動記錄。\n",
              "\n",
              "[708953 rows x 1 columns]"
            ]
          },
          "execution_count": 6,
          "metadata": {},
          "output_type": "execute_result"
        }
      ],
      "source": [
        "xtrain"
      ]
    },
    {
      "cell_type": "code",
      "execution_count": 24,
      "metadata": {
        "id": "mHs8I-9sCqan"
      },
      "outputs": [],
      "source": [
        "def spaceornot(line):\n",
        "  splace = []\n",
        "  for i, char in enumerate(str(line).split()):\n",
        "    if line[i + 1] == '\\u3000':\n",
        "      splace.append(1)\n",
        "    elif i == len(str(line).split()) - 1:\n",
        "      splace.append(1)\n",
        "    elif line[i + 1] != '\\u3000':\n",
        "      splace.append(0)\n",
        "    \n",
        "  return splace\n"
      ]
    },
    {
      "cell_type": "code",
      "execution_count": 26,
      "metadata": {
        "colab": {
          "base_uri": "https://localhost:8080/",
          "height": 81
        },
        "id": "FX1jqoFADq7P",
        "outputId": "b33ea879-85df-4de0-d96a-9b3aee5d7039"
      },
      "outputs": [],
      "source": [
        "ypred = yraw.apply(spaceornot)"
      ]
    },
    {
      "cell_type": "code",
      "execution_count": 12,
      "metadata": {
        "id": "iIqyTkBOEupy"
      },
      "outputs": [
        {
          "ename": "SyntaxError",
          "evalue": "invalid character '“' (U+201C) (3421737391.py, line 1)",
          "output_type": "error",
          "traceback": [
            "\u001b[1;36m  File \u001b[1;32m\"C:\\Users\\zhiha\\AppData\\Local\\Temp\\ipykernel_14396\\3421737391.py\"\u001b[1;36m, line \u001b[1;32m1\u001b[0m\n\u001b[1;33m    print(len(“你好”))\u001b[0m\n\u001b[1;37m              ^\u001b[0m\n\u001b[1;31mSyntaxError\u001b[0m\u001b[1;31m:\u001b[0m invalid character '“' (U+201C)\n"
          ]
        }
      ],
      "source": [
        "print(len(“你好”))"
      ]
    },
    {
      "cell_type": "code",
      "execution_count": null,
      "metadata": {},
      "outputs": [],
      "source": []
    }
  ],
  "metadata": {
    "accelerator": "GPU",
    "colab": {
      "collapsed_sections": [],
      "name": "Chinese_segmentation.ipynb",
      "provenance": []
    },
    "interpreter": {
      "hash": "38c7ce74dd526bc9e84fd0682f6c1ac8fcd6c4cb0e87d36fcf4e0e214217cc07"
    },
    "kernelspec": {
      "display_name": "Python 3.10.1 64-bit",
      "language": "python",
      "name": "python3"
    },
    "language_info": {
      "codemirror_mode": {
        "name": "ipython",
        "version": 3
      },
      "file_extension": ".py",
      "mimetype": "text/x-python",
      "name": "python",
      "nbconvert_exporter": "python",
      "pygments_lexer": "ipython3",
      "version": "3.10.1"
    }
  },
  "nbformat": 4,
  "nbformat_minor": 0
}
